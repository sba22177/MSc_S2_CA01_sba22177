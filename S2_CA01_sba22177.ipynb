{
 "cells": [
  {
   "cell_type": "code",
   "execution_count": null,
   "id": "0a803a97",
   "metadata": {},
   "outputs": [],
   "source": [
    "#source of code: https://anna-shi.medium.com/can-computers-recognize-shirts-from-sandals-d91b451d9dad"
   ]
  },
  {
   "cell_type": "code",
   "execution_count": 114,
   "id": "12a8699e",
   "metadata": {
    "scrolled": true
   },
   "outputs": [],
   "source": [
    "#importing libraries\n",
    "import tensorflow as tf\n",
    "from tensorflow import keras\n",
    "import numpy as np\n",
    "import matplotlib.pyplot as plt\n",
    "from tensorflow.keras import datasets, layers, models\n",
    "\n",
    "from keras.models import Model\n",
    "from keras.layers import Input, Conv2D, MaxPooling2D, AveragePooling2D, Flatten, GlobalAveragePooling2D, Dense, Dropout\n",
    "from keras.layers import concatenate\n",
    "\n",
    "from PIL import Image\n",
    "\n",
    "from skimage.transform import resize\n",
    "from tensorflow.keras.layers import Input, Conv2D, MaxPooling2D, AveragePooling2D, Flatten, Dense, Dropout, concatenate\n",
    "from tensorflow.keras.utils import to_categorical\n",
    "\n",
    "from sklearn.model_selection import KFold\n",
    "from keras.datasets import fashion_mnist\n",
    "from keras.utils import to_categorical\n",
    "from keras.models import Sequential\n",
    "from keras.layers import Conv2D\n",
    "from keras.layers import MaxPooling2D\n",
    "from keras.layers import Dense\n",
    "from keras.layers import Flatten\n",
    "from keras.optimizers import SGD\n",
    "\n",
    "from numpy import mean\n",
    "from numpy import std\n",
    "from matplotlib import pyplot"
   ]
  },
  {
   "cell_type": "code",
   "execution_count": 54,
   "id": "bbad5142",
   "metadata": {},
   "outputs": [],
   "source": [
    "#fashion mnist from keras\n",
    "fashion_mnist = keras.datasets.fashion_mnist\n",
    "#dowload the MNIST data\n",
    "(train_X, train_y), (test_X, test_y) = fashion_mnist.load_data()"
   ]
  },
  {
   "cell_type": "code",
   "execution_count": 9,
   "id": "c9b25438",
   "metadata": {},
   "outputs": [
    {
     "name": "stdout",
     "output_type": "stream",
     "text": [
      "(10000, 28, 28)\n",
      "(60000, 28, 28)\n",
      "(10000,)\n",
      "(60000,)\n"
     ]
    }
   ],
   "source": [
    "#examining dataset\n",
    "print(test_X.shape)\n",
    "print(train_X.shape)\n",
    "print(test_y.shape)\n",
    "print(train_y.shape)"
   ]
  },
  {
   "cell_type": "code",
   "execution_count": 14,
   "id": "7f72abb3",
   "metadata": {},
   "outputs": [
    {
     "data": {
      "text/plain": [
       "{0, 1, 2, 3, 4, 5, 6, 7, 8, 9}"
      ]
     },
     "execution_count": 14,
     "metadata": {},
     "output_type": "execute_result"
    }
   ],
   "source": [
    "#viewing unique labels\n",
    "set(train_y)"
   ]
  },
  {
   "cell_type": "code",
   "execution_count": 15,
   "id": "1a28332d",
   "metadata": {},
   "outputs": [],
   "source": [
    "#defining the image classes so not just numbers as above\n",
    "class_names = ['T-shirt/top','Trouser', 'Pullover', 'Dress', 'Coat',\n",
    "               'Sandal', 'Shirt', 'Sneaker', 'Bag', 'Ankle boot']"
   ]
  },
  {
   "cell_type": "code",
   "execution_count": 6,
   "id": "e665a330",
   "metadata": {},
   "outputs": [],
   "source": [
    "#feature scaling colours from 0-255 to 0-1\n",
    "train_X = train_X/255.0\n",
    "test_X = test_X/255.0"
   ]
  },
  {
   "cell_type": "code",
   "execution_count": 7,
   "id": "637405a8",
   "metadata": {},
   "outputs": [
    {
     "data": {
      "image/png": "[encoded data removed]",
      "text/plain": [
       "<Figure size 720x720 with 10 Axes>"
      ]
     },
     "metadata": {},
     "output_type": "display_data"
    }
   ],
   "source": [
    "#Showing the first 10 images\n",
    "plt.figure(figsize=(10,10))\n",
    "for i in range(10):\n",
    "    plt.subplot(5,5,i+1)\n",
    "    plt.xticks([])\n",
    "    plt.yticks([])\n",
    "    plt.grid(False)\n",
    "    plt.imshow(train_X[i], cmap=plt.cm.binary)\n",
    "    plt.xlabel(class_names[train_y[i]])\n",
    "plt.show()"
   ]
  },
  {
   "cell_type": "markdown",
   "id": "9bcf4203",
   "metadata": {},
   "source": [
    "## Simple Neural Network"
   ]
  },
  {
   "cell_type": "code",
   "execution_count": null,
   "id": "f71ede23",
   "metadata": {},
   "outputs": [],
   "source": [
    "#creating one hidden layer with 128 nodes and output layer with 10 nodes\n",
    "model = tf.keras.models.Sequential([\n",
    "    tf.keras.layers.Flatten(input_shape=(28, 28)), \n",
    "    tf.keras.layers.Dense(128, activation='relu'),    \n",
    "    tf.keras.layers.Dense(10, activation='softmax')\n",
    "])"
   ]
  },
  {
   "cell_type": "code",
   "execution_count": null,
   "id": "ce180abe",
   "metadata": {},
   "outputs": [],
   "source": [
    "#backpropagation\n",
    "model.compile(optimizer='adam',\n",
    "              loss=tf.keras.losses.SparseCategoricalCrossentropy(from_logits=True),\n",
    "              metrics=['accuracy'])"
   ]
  },
  {
   "cell_type": "code",
   "execution_count": null,
   "id": "65494899",
   "metadata": {},
   "outputs": [],
   "source": [
    "#training the model\n",
    "model.fit(train_X, train_y, epochs=12)"
   ]
  },
  {
   "cell_type": "code",
   "execution_count": null,
   "id": "0612724d",
   "metadata": {},
   "outputs": [],
   "source": [
    "#evaluating model\n",
    "loss, acc = model.evaluate(test_X, test_y, verbose = 1)\n",
    "print('\\\\nTest accuracy: ', acc)"
   ]
  },
  {
   "cell_type": "markdown",
   "id": "51127e95",
   "metadata": {},
   "source": [
    "## CNN Model"
   ]
  },
  {
   "cell_type": "code",
   "execution_count": null,
   "id": "9b2d03cc",
   "metadata": {},
   "outputs": [],
   "source": [
    "cnn_model = models.Sequential()\n",
    "#32 filters assigned - 32 nodes in convolutional layer. Filter is 3x3. Padding is on the border. Activation function ReLU only considers nodes with positive outputs.\n",
    "cnn_model.add(layers.Conv2D(32, (3, 3), padding='same', activation='relu', input_shape=(28,28,1)))\n",
    "#pooling the layer to reduce dimensions with 2x2 filter\n",
    "cnn_model.add(layers.MaxPooling2D((2,2), strides = 2))\n",
    "#a second convolutional layer with 64 filters\n",
    "cnn_model.add(layers.Conv2D(64, (3,3), padding='same', activation = 'relu'))\n",
    "cnn_model.add(layers.MaxPooling2D((2,2), strides = 2))\n",
    "#returns a regular dense neural network\n",
    "cnn_model.add(layers.Flatten())\n",
    "cnn_model.add(layers.Dense(128, activation = 'relu'))\n",
    "cnn_model.add(layers.Dense(10, activation = 'softmax'))\n",
    "\n",
    "\n",
    "# set up model optimizer, loss function, and accuracy\n",
    "model.compile(optimizer='adam',\n",
    "              loss=tf.keras.losses.SparseCategoricalCrossentropy(from_logits=True),\n",
    "              metrics=['accuracy'])"
   ]
  },
  {
   "cell_type": "code",
   "execution_count": null,
   "id": "ad34e1ba",
   "metadata": {},
   "outputs": [],
   "source": [
    "train_X = tf.reshape(train_X, [60000, 28, 28, 1])\n",
    "test_X = tf.reshape(test_X, [10000, 28, 28, 1])"
   ]
  },
  {
   "cell_type": "code",
   "execution_count": null,
   "id": "7b3aa291",
   "metadata": {},
   "outputs": [],
   "source": [
    "#train the model\n",
    "model.fit(train_X, train_y, epochs=10)"
   ]
  },
  {
   "cell_type": "code",
   "execution_count": null,
   "id": "f78e7565",
   "metadata": {},
   "outputs": [],
   "source": [
    "#test the model\n",
    "loss, acc = model.evaluate(test_X, test_y, verbose = 1)\n",
    "print('\\nTest accuracy: ', acc)"
   ]
  },
  {
   "cell_type": "markdown",
   "id": "4840f0dc",
   "metadata": {},
   "source": [
    "## CNN MODEL BASELINE"
   ]
  },
  {
   "cell_type": "code",
   "execution_count": 99,
   "id": "7faf3d0e",
   "metadata": {},
   "outputs": [],
   "source": [
    "# load train and test dataset\n",
    "def load_dataset():\n",
    " # load dataset\n",
    " (train_X, train_Y), (test_X, test_Y) = fashion_mnist.load_data()\n",
    " # reshape dataset to have a single channel\n",
    " train_X = train_X.reshape((train_X.shape[0], 28, 28, 1))\n",
    " test_X = test_X.reshape((test_X.shape[0], 28, 28, 1))\n",
    " # one hot encode target values\n",
    " train_Y = to_categorical(train_Y)\n",
    " test_Y = to_categorical(test_Y)\n",
    " return train_X, train_Y, test_X, test_Y\n",
    " \n",
    "# scale pixels\n",
    "def prep_pixels(train, test):\n",
    " # convert from integers to floats\n",
    " train_norm = train.astype('float32')\n",
    " test_norm = test.astype('float32')\n",
    " # normalize to range 0-1\n",
    " train_norm = train_norm / 255.0\n",
    " test_norm = test_norm / 255.0\n",
    " # return normalized images\n",
    " return train_norm, test_norm"
   ]
  },
  {
   "cell_type": "code",
   "execution_count": 100,
   "id": "9aae2f07",
   "metadata": {},
   "outputs": [],
   "source": [
    "def cnn_model_base():\n",
    "    model = Sequential()\n",
    "    model.add(Conv2D(32, (3,3), activation='relu', kernel_initializer='he_uniform', input_shape=(28,28,1)))\n",
    "    model.add(MaxPooling2D((2,2)))\n",
    "    model.add(Flatten())\n",
    "    model.add(Dense(100, activation='relu', kernel_initializer='he_uniform'))\n",
    "    model.add(Dense(10, activation='softmax'))\n",
    "    \n",
    "    opt=SGD(lr=0.01, momentum=0.9)\n",
    "    model.compile(optimizer=opt, loss='categorical_crossentropy', metrics=['accuracy'])\n",
    "    return model"
   ]
  },
  {
   "cell_type": "code",
   "execution_count": 111,
   "id": "68bc95b0",
   "metadata": {},
   "outputs": [],
   "source": [
    "def model_summary(X, y, n_folds=5):\n",
    "    scores, histories = list(), list()\n",
    "    kfold = KFold(n_folds, shuffle=True, random_state=42)\n",
    "    for train_ix, test_ix in kfold.split(X):\n",
    "        model=cnn_model_base()\n",
    "        train_X, train_y, test_X, test_y = X[train_ix], y[train_ix], X[test_ix], y[test_ix]\n",
    "        history=model.fit(train_X, train_y, epochs=10, batch_size=32, validation_data=(test_X, test_y), verbose=0)\n",
    "        _, acc = model.evaluate(test_X, test_y, verbose=0)\n",
    "        print('> %.3f' % (acc * 100.0))\n",
    "        \n",
    "        scores.append(acc)\n",
    "        histories.append(history)\n",
    "        return scores, histories   "
   ]
  },
  {
   "cell_type": "code",
   "execution_count": 102,
   "id": "ffd9d4bb",
   "metadata": {},
   "outputs": [],
   "source": [
    "# plot diagnostic learning curves\n",
    "def summarize_diagnostics(histories):\n",
    " for i in range(len(histories)):\n",
    " # plot loss\n",
    "     pyplot.subplot(211)\n",
    "     pyplot.title('Cross Entropy Loss')\n",
    "     pyplot.plot(histories[i].history['loss'], color='blue', label='train')\n",
    "     pyplot.plot(histories[i].history['val_loss'], color='orange', label='test')\n",
    " # plot accuracy\n",
    "     pyplot.subplot(212)\n",
    "     pyplot.title('Classification Accuracy')\n",
    "     pyplot.plot(histories[i].history['accuracy'], color='blue', label='train')\n",
    "     pyplot.plot(histories[i].history['val_accuracy'], color='orange', label='test')\n",
    "     pyplot.show()"
   ]
  },
  {
   "cell_type": "code",
   "execution_count": 103,
   "id": "ce2c7427",
   "metadata": {},
   "outputs": [],
   "source": [
    "# summarize model performance\n",
    "def summarize_performance(scores):\n",
    " # print summary\n",
    " print('Accuracy: mean=%.3f std=%.3f, n=%d' % (mean(scores)*100, std(scores)*100, len(scores)))\n",
    " # box and whisker plots of results\n",
    " pyplot.boxplot(scores)\n",
    " pyplot.show()"
   ]
  },
  {
   "cell_type": "code",
   "execution_count": 108,
   "id": "c79a2bcc",
   "metadata": {},
   "outputs": [],
   "source": [
    "# run the test harness for evaluating a model\n",
    "def run_test_harness():\n",
    " # load dataset\n",
    " train_X, train_Y, test_X, test_Y = load_dataset()\n",
    " # prepare pixel data\n",
    " train_X, test_X = prep_pixels(train_X, test_X)\n",
    " # evaluate model\n",
    " scores, histories = model_summary(train_X, train_Y)\n",
    " # learning curves\n",
    " summarize_diagnostics(histories)\n",
    " # summarize estimated performance\n",
    " summarize_performance(scores)"
   ]
  },
  {
   "cell_type": "code",
   "execution_count": 115,
   "id": "d1941bf7",
   "metadata": {},
   "outputs": [
    {
     "name": "stdout",
     "output_type": "stream",
     "text": [
      "> 91.183\n"
     ]
    },
    {
     "data": {
      "image/png": "[encoded data removed]",
      "text/plain": [
       "<Figure size 432x288 with 2 Axes>"
      ]
     },
     "metadata": {
      "needs_background": "light"
     },
     "output_type": "display_data"
    },
    {
     "name": "stdout",
     "output_type": "stream",
     "text": [
      "Accuracy: mean=91.183 std=0.000, n=1\n"
     ]
    },
    {
     "data": {
      "image/png": "[encoded data removed]",
      "text/plain": [
       "<Figure size 432x288 with 1 Axes>"
      ]
     },
     "metadata": {
      "needs_background": "light"
     },
     "output_type": "display_data"
    }
   ],
   "source": [
    "run_test_harness()"
   ]
  },
  {
   "cell_type": "markdown",
   "id": "1bbac9db",
   "metadata": {},
   "source": [
    "## GoogLeNet\n",
    "https://medium.com/mlearning-ai/implementation-of-googlenet-on-keras-d9873aeed83c"
   ]
  },
  {
   "cell_type": "code",
   "execution_count": 57,
   "id": "ec17c51d",
   "metadata": {},
   "outputs": [
    {
     "ename": "MemoryError",
     "evalue": "Unable to allocate 392. KiB for an array with shape (224, 224) and data type float64",
     "output_type": "error",
     "traceback": [
      "\u001b[1;31m---------------------------------------------------------------------------\u001b[0m",
      "\u001b[1;31mMemoryError\u001b[0m                               Traceback (most recent call last)",
      "Input \u001b[1;32mIn [57]\u001b[0m, in \u001b[0;36m<cell line: 2>\u001b[1;34m()\u001b[0m\n\u001b[0;32m      1\u001b[0m \u001b[38;5;66;03m#resizing images\u001b[39;00m\n\u001b[1;32m----> 2\u001b[0m train_X_GoogLeNet\u001b[38;5;241m=\u001b[39m[resize(img, (\u001b[38;5;241m224\u001b[39m,\u001b[38;5;241m224\u001b[39m), anti_aliasing\u001b[38;5;241m=\u001b[39m\u001b[38;5;28;01mTrue\u001b[39;00m) \u001b[38;5;28;01mfor\u001b[39;00m img \u001b[38;5;129;01min\u001b[39;00m train_X]\n\u001b[0;32m      3\u001b[0m test_X_GoogLeNet\u001b[38;5;241m=\u001b[39m[resize(img, (\u001b[38;5;241m224\u001b[39m,\u001b[38;5;241m224\u001b[39m), anti_aliasing\u001b[38;5;241m=\u001b[39m\u001b[38;5;28;01mTrue\u001b[39;00m) \u001b[38;5;28;01mfor\u001b[39;00m img \u001b[38;5;129;01min\u001b[39;00m test_X]\n",
      "Input \u001b[1;32mIn [57]\u001b[0m, in \u001b[0;36m<listcomp>\u001b[1;34m(.0)\u001b[0m\n\u001b[0;32m      1\u001b[0m \u001b[38;5;66;03m#resizing images\u001b[39;00m\n\u001b[1;32m----> 2\u001b[0m train_X_GoogLeNet\u001b[38;5;241m=\u001b[39m[\u001b[43mresize\u001b[49m\u001b[43m(\u001b[49m\u001b[43mimg\u001b[49m\u001b[43m,\u001b[49m\u001b[43m \u001b[49m\u001b[43m(\u001b[49m\u001b[38;5;241;43m224\u001b[39;49m\u001b[43m,\u001b[49m\u001b[38;5;241;43m224\u001b[39;49m\u001b[43m)\u001b[49m\u001b[43m,\u001b[49m\u001b[43m \u001b[49m\u001b[43manti_aliasing\u001b[49m\u001b[38;5;241;43m=\u001b[39;49m\u001b[38;5;28;43;01mTrue\u001b[39;49;00m\u001b[43m)\u001b[49m \u001b[38;5;28;01mfor\u001b[39;00m img \u001b[38;5;129;01min\u001b[39;00m train_X]\n\u001b[0;32m      3\u001b[0m test_X_GoogLeNet\u001b[38;5;241m=\u001b[39m[resize(img, (\u001b[38;5;241m224\u001b[39m,\u001b[38;5;241m224\u001b[39m), anti_aliasing\u001b[38;5;241m=\u001b[39m\u001b[38;5;28;01mTrue\u001b[39;00m) \u001b[38;5;28;01mfor\u001b[39;00m img \u001b[38;5;129;01min\u001b[39;00m test_X]\n",
      "File \u001b[1;32m~\\anaconda3\\lib\\site-packages\\skimage\\transform\\_warps.py:187\u001b[0m, in \u001b[0;36mresize\u001b[1;34m(image, output_shape, order, mode, cval, clip, preserve_range, anti_aliasing, anti_aliasing_sigma)\u001b[0m\n\u001b[0;32m    184\u001b[0m \u001b[38;5;28;01mif\u001b[39;00m NumpyVersion(scipy\u001b[38;5;241m.\u001b[39m__version__) \u001b[38;5;241m>\u001b[39m\u001b[38;5;241m=\u001b[39m \u001b[38;5;124m'\u001b[39m\u001b[38;5;124m1.6.0\u001b[39m\u001b[38;5;124m'\u001b[39m:\n\u001b[0;32m    185\u001b[0m     \u001b[38;5;66;03m# The grid_mode kwarg was introduced in SciPy 1.6.0\u001b[39;00m\n\u001b[0;32m    186\u001b[0m     zoom_factors \u001b[38;5;241m=\u001b[39m [\u001b[38;5;241m1\u001b[39m \u001b[38;5;241m/\u001b[39m f \u001b[38;5;28;01mfor\u001b[39;00m f \u001b[38;5;129;01min\u001b[39;00m factors]\n\u001b[1;32m--> 187\u001b[0m     out \u001b[38;5;241m=\u001b[39m \u001b[43mndi\u001b[49m\u001b[38;5;241;43m.\u001b[39;49m\u001b[43mzoom\u001b[49m\u001b[43m(\u001b[49m\u001b[43mimage\u001b[49m\u001b[43m,\u001b[49m\u001b[43m \u001b[49m\u001b[43mzoom_factors\u001b[49m\u001b[43m,\u001b[49m\u001b[43m \u001b[49m\u001b[43morder\u001b[49m\u001b[38;5;241;43m=\u001b[39;49m\u001b[43morder\u001b[49m\u001b[43m,\u001b[49m\u001b[43m \u001b[49m\u001b[43mmode\u001b[49m\u001b[38;5;241;43m=\u001b[39;49m\u001b[43mndi_mode\u001b[49m\u001b[43m,\u001b[49m\n\u001b[0;32m    188\u001b[0m \u001b[43m                   \u001b[49m\u001b[43mcval\u001b[49m\u001b[38;5;241;43m=\u001b[39;49m\u001b[43mcval\u001b[49m\u001b[43m,\u001b[49m\u001b[43m \u001b[49m\u001b[43mgrid_mode\u001b[49m\u001b[38;5;241;43m=\u001b[39;49m\u001b[38;5;28;43;01mTrue\u001b[39;49;00m\u001b[43m)\u001b[49m\n\u001b[0;32m    190\u001b[0m \u001b[38;5;66;03m# TODO: Remove the fallback code below once SciPy >= 1.6.0 is required.\u001b[39;00m\n\u001b[0;32m    191\u001b[0m \n\u001b[0;32m    192\u001b[0m \u001b[38;5;66;03m# 2-dimensional interpolation\u001b[39;00m\n\u001b[0;32m    193\u001b[0m \u001b[38;5;28;01melif\u001b[39;00m \u001b[38;5;28mlen\u001b[39m(output_shape) \u001b[38;5;241m==\u001b[39m \u001b[38;5;241m2\u001b[39m \u001b[38;5;129;01mor\u001b[39;00m (\u001b[38;5;28mlen\u001b[39m(output_shape) \u001b[38;5;241m==\u001b[39m \u001b[38;5;241m3\u001b[39m \u001b[38;5;129;01mand\u001b[39;00m\n\u001b[0;32m    194\u001b[0m                                 output_shape[\u001b[38;5;241m2\u001b[39m] \u001b[38;5;241m==\u001b[39m input_shape[\u001b[38;5;241m2\u001b[39m]):\n",
      "File \u001b[1;32m~\\anaconda3\\lib\\site-packages\\scipy\\ndimage\\interpolation.py:771\u001b[0m, in \u001b[0;36mzoom\u001b[1;34m(input, zoom, output, order, mode, cval, prefilter, grid_mode)\u001b[0m\n\u001b[0;32m    768\u001b[0m output_shape \u001b[38;5;241m=\u001b[39m \u001b[38;5;28mtuple\u001b[39m(\n\u001b[0;32m    769\u001b[0m         [\u001b[38;5;28mint\u001b[39m(\u001b[38;5;28mround\u001b[39m(ii \u001b[38;5;241m*\u001b[39m jj)) \u001b[38;5;28;01mfor\u001b[39;00m ii, jj \u001b[38;5;129;01min\u001b[39;00m \u001b[38;5;28mzip\u001b[39m(\u001b[38;5;28minput\u001b[39m\u001b[38;5;241m.\u001b[39mshape, zoom)])\n\u001b[0;32m    770\u001b[0m complex_output \u001b[38;5;241m=\u001b[39m numpy\u001b[38;5;241m.\u001b[39miscomplexobj(\u001b[38;5;28minput\u001b[39m)\n\u001b[1;32m--> 771\u001b[0m output \u001b[38;5;241m=\u001b[39m \u001b[43m_ni_support\u001b[49m\u001b[38;5;241;43m.\u001b[39;49m\u001b[43m_get_output\u001b[49m\u001b[43m(\u001b[49m\u001b[43moutput\u001b[49m\u001b[43m,\u001b[49m\u001b[43m \u001b[49m\u001b[38;5;28;43minput\u001b[39;49m\u001b[43m,\u001b[49m\u001b[43m \u001b[49m\u001b[43mshape\u001b[49m\u001b[38;5;241;43m=\u001b[39;49m\u001b[43moutput_shape\u001b[49m\u001b[43m,\u001b[49m\n\u001b[0;32m    772\u001b[0m \u001b[43m                                 \u001b[49m\u001b[43mcomplex_output\u001b[49m\u001b[38;5;241;43m=\u001b[39;49m\u001b[43mcomplex_output\u001b[49m\u001b[43m)\u001b[49m\n\u001b[0;32m    773\u001b[0m \u001b[38;5;28;01mif\u001b[39;00m complex_output:\n\u001b[0;32m    774\u001b[0m     \u001b[38;5;66;03m# import under different name to avoid confusion with zoom parameter\u001b[39;00m\n\u001b[0;32m    775\u001b[0m     \u001b[38;5;28;01mfrom\u001b[39;00m \u001b[38;5;21;01mscipy\u001b[39;00m\u001b[38;5;21;01m.\u001b[39;00m\u001b[38;5;21;01mndimage\u001b[39;00m\u001b[38;5;21;01m.\u001b[39;00m\u001b[38;5;21;01minterpolation\u001b[39;00m \u001b[38;5;28;01mimport\u001b[39;00m zoom \u001b[38;5;28;01mas\u001b[39;00m _zoom\n",
      "File \u001b[1;32m~\\anaconda3\\lib\\site-packages\\scipy\\ndimage\\_ni_support.py:78\u001b[0m, in \u001b[0;36m_get_output\u001b[1;34m(output, input, shape, complex_output)\u001b[0m\n\u001b[0;32m     76\u001b[0m \u001b[38;5;28;01mif\u001b[39;00m output \u001b[38;5;129;01mis\u001b[39;00m \u001b[38;5;28;01mNone\u001b[39;00m:\n\u001b[0;32m     77\u001b[0m     \u001b[38;5;28;01mif\u001b[39;00m \u001b[38;5;129;01mnot\u001b[39;00m complex_output:\n\u001b[1;32m---> 78\u001b[0m         output \u001b[38;5;241m=\u001b[39m \u001b[43mnumpy\u001b[49m\u001b[38;5;241;43m.\u001b[39;49m\u001b[43mzeros\u001b[49m\u001b[43m(\u001b[49m\u001b[43mshape\u001b[49m\u001b[43m,\u001b[49m\u001b[43m \u001b[49m\u001b[43mdtype\u001b[49m\u001b[38;5;241;43m=\u001b[39;49m\u001b[38;5;28;43minput\u001b[39;49m\u001b[38;5;241;43m.\u001b[39;49m\u001b[43mdtype\u001b[49m\u001b[38;5;241;43m.\u001b[39;49m\u001b[43mname\u001b[49m\u001b[43m)\u001b[49m\n\u001b[0;32m     79\u001b[0m     \u001b[38;5;28;01melse\u001b[39;00m:\n\u001b[0;32m     80\u001b[0m         complex_type \u001b[38;5;241m=\u001b[39m numpy\u001b[38;5;241m.\u001b[39mpromote_types(\u001b[38;5;28minput\u001b[39m\u001b[38;5;241m.\u001b[39mdtype, numpy\u001b[38;5;241m.\u001b[39mcomplex64)\n",
      "\u001b[1;31mMemoryError\u001b[0m: Unable to allocate 392. KiB for an array with shape (224, 224) and data type float64"
     ]
    }
   ],
   "source": [
    "#resizing images\n",
    "train_X_GoogLeNet=[resize(img, (224,224), anti_aliasing=True) for img in train_X]\n",
    "test_X_GoogLeNet=[resize(img, (224,224), anti_aliasing=True) for img in test_X]"
   ]
  },
  {
   "cell_type": "code",
   "execution_count": 36,
   "id": "02d3804d",
   "metadata": {},
   "outputs": [],
   "source": [
    "#defining an inception block\n",
    "def Inception_block(input_layer, f1, f2_conv1, f2_conv3, f3_conv1, f3_conv5, f4):\n",
    "    \n",
    "    #first pathway - convolutional layer with 1x1 filter\n",
    "    path_1 = Conv2D(filters=f1, kernel_size = (1,1), padding = 'same', activation = 'relu')(input_layer)\n",
    "    \n",
    "    #second pathway - applying a 1x1 filter before a 3x3 to reduce model complexity\n",
    "    path_2 = Conv2D(filters = f2_conv1, kernel_size = (1,1), padding = 'same', activation = 'relu')(input_layer)\n",
    "    path_2 = Conv2D(filters = f2_conv3, kernel_size = (3,3), padding = 'same', activation = 'relu')(path_2)\n",
    "    \n",
    "    #third pathway - applying a 1x1 filter before a 5x5 to reduce model complexity\n",
    "    path_3 = Conv2D(filters = f3_conv1, kernel_size = (1,1), padding = 'same', activation = 'relu')(input_layer)\n",
    "    path_3 = Conv2D(filters = f3_conv5, kernel_size = (5,5), padding = 'same', activation = 'relu')(path_3)\n",
    "    \n",
    "    #fourth pathway - pooling layer to reduce resolution and then convolutional layer in 1x1 to reduce dimensions\n",
    "    path_4 = MaxPooling2D((3,3), strides= (1,1), padding = 'same')(input_layer)\n",
    "    path4 = Conv2D(filters = f4, kernel_size = (1,1), padding = 'same', activation = 'relu')(path_4)\n",
    "    \n",
    "    output_layer = concatenate([path_1, path_2, path_3, path_4], axis = -1)\n",
    "\n",
    "    return output_layer"
   ]
  },
  {
   "cell_type": "code",
   "execution_count": 42,
   "id": "a38ed430",
   "metadata": {},
   "outputs": [],
   "source": [
    "def GoogLeNet():\n",
    "    #defining the input\n",
    "    input_layer = Input(shape = (224,224,3))\n",
    "    \n",
    "    #convolutional layer 1 \n",
    "    X = Conv2D(filters = 64, kernel_size = (7,7), strides = 2, padding = 'valid', activation = 'relu')(input_layer)\n",
    "    \n",
    "    #max pooling layer 1\n",
    "    X = MaxPooling2D(pool_size = (3,3), strides = 2)(X)\n",
    "    \n",
    "    #convolutional layer 2\n",
    "    X = Conv2D(filters = 64, kernel_size = (1,1), strides = 1, padding = 'same', activation = 'relu')(X)\n",
    "    \n",
    "    #convolutional layer 3\n",
    "    X = Conv2D(filters = 192, kernel_size = (3,3), padding = 'same', activation = 'relu')(X)\n",
    "    \n",
    "    #max pooling layer 2\n",
    "    X = MaxPooling2D(pool_size= (3,3), strides = 2)(X)\n",
    "    \n",
    "    #inception block 1\n",
    "    X = Inception_block(X, f1 = 64, f2_conv1 = 96, f2_conv3 = 128, f3_conv1 = 16, f3_conv5 = 32, f4 = 32)\n",
    "    \n",
    "    #inception block 2\n",
    "    X = Inception_block(X, f1 = 128, f2_conv1 = 128, f2_conv3 = 192, f3_conv1 = 32, f3_conv5 = 96, f4 = 64)\n",
    "    \n",
    "    #max pooling layer 3\n",
    "    X = MaxPooling2D(pool_size= (3,3), strides = 2)(X)\n",
    "    \n",
    "    #inception block 3\n",
    "    X = Inception_block(X, f1 = 192, f2_conv1 = 96, f2_conv3 = 208, f3_conv1 = 16, f3_conv5 = 48, f4 = 64)\n",
    "    \n",
    "    #extra network 1\n",
    "    X1 = AveragePooling2D(pool_size = (5,5), strides = 3)(X)\n",
    "    X1 = Conv2D(filters = 128, kernel_size = (1,1), padding = 'same', activation = 'relu')(X1)\n",
    "    X1 = Flatten()(X1)\n",
    "    X1 = Dense(1024, activation = 'relu')(X1)\n",
    "    X1 = Dropout(0.7)(X1)\n",
    "    X1 = Dense(5, activation = 'softmax')(X1)\n",
    "    \n",
    "    #inception block 4\n",
    "    X = Inception_block(X, f1 = 160, f2_conv1 = 112, f2_conv3 = 224, f3_conv1 = 24, f3_conv5 = 64, f4 = 64)\n",
    "    \n",
    "    #inception block 5\n",
    "    X = Inception_block(X, f1 = 128, f2_conv1 = 128, f2_conv3 = 256, f3_conv1 = 24, f3_conv5 = 64, f4 = 64)\n",
    "    \n",
    "    #inception block 6\n",
    "    X = Inception_block(X, f1 = 112, f2_conv1 = 144, f2_conv3 = 288, f3_conv1 = 32, f3_conv5 = 64, f4 = 64)\n",
    "    \n",
    "    #extra network 2\n",
    "    X2 = AveragePooling2D(pool_size = (5,5), strides = 3)(X)\n",
    "    X2 = Conv2D(filters = 128, kernel_size = (1,1), padding = 'same', activation = 'relu')(X2)\n",
    "    X2 = Flatten()(X2)\n",
    "    X2 = Dense(1024, activation = 'relu')(X2)\n",
    "    X2 = Dropout(0.7)(X2)\n",
    "    X2 = Dense(1000, activation = 'softmax')(X2)\n",
    "    \n",
    "    #inception block 7\n",
    "    X = Inception_block(X, f1 = 256, f2_conv1 = 160, f2_conv3 = 320, f3_conv1 = 32, \n",
    "                  #output layer\n",
    "    X = Dense(1000, activation = 'softmax')(X)\n",
    "    \n",
    "    #model\n",
    "    model = Model(input_layer, [X,X1, X2], name = 'GoogLeNet')\n",
    "    \n",
    "    return model"
   ]
  },
  {
   "cell_type": "code",
   "execution_count": 43,
   "id": "63774dba",
   "metadata": {},
   "outputs": [],
   "source": [
    "model = GoogLeNet()"
   ]
  }
 ],
 "metadata": {
  "kernelspec": {
   "display_name": "Python 3 (ipykernel)",
   "language": "python",
   "name": "python3"
  },
  "language_info": {
   "codemirror_mode": {
    "name": "ipython",
    "version": 3
   },
   "file_extension": ".py",
   "mimetype": "text/x-python",
   "name": "python",
   "nbconvert_exporter": "python",
   "pygments_lexer": "ipython3",
   "version": "3.9.12"
  }
 },
 "nbformat": 4,
 "nbformat_minor": 5
}
